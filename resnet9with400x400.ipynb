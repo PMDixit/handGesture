{
  "nbformat": 4,
  "nbformat_minor": 0,
  "metadata": {
    "colab": {
      "provenance": [],
      "authorship_tag": "ABX9TyPOwxHYVuAWSRZT5pe9AKOc",
      "include_colab_link": true
    },
    "kernelspec": {
      "name": "python3",
      "display_name": "Python 3"
    },
    "language_info": {
      "name": "python"
    },
    "gpuClass": "standard"
  },
  "cells": [
    {
      "cell_type": "markdown",
      "metadata": {
        "id": "view-in-github",
        "colab_type": "text"
      },
      "source": [
        "<a href=\"https://colab.research.google.com/github/PMDixit/handGesture/blob/main/resnet9with400x400.ipynb\" target=\"_parent\"><img src=\"https://colab.research.google.com/assets/colab-badge.svg\" alt=\"Open In Colab\"/></a>"
      ]
    },
    {
      "cell_type": "code",
      "execution_count": null,
      "metadata": {
        "colab": {
          "base_uri": "https://localhost:8080/"
        },
        "id": "rwLx-JeCYQPs",
        "outputId": "17942e0b-12ad-43e3-ad70-a10787fc986b"
      },
      "outputs": [
        {
          "output_type": "stream",
          "name": "stdout",
          "text": [
            "\u001b[2K     \u001b[90m━━━━━━━━━━━━━━━━━━━━━━━━━━━━━━━━━━━━━━━━\u001b[0m \u001b[32m33.9/33.9 MB\u001b[0m \u001b[31m26.1 MB/s\u001b[0m eta \u001b[36m0:00:00\u001b[0m\n",
            "\u001b[?25h"
          ]
        }
      ],
      "source": [
        "!pip install opendatasets mediapipe --quiet"
      ]
    },
    {
      "cell_type": "code",
      "execution_count": null,
      "metadata": {
        "colab": {
          "base_uri": "https://localhost:8080/"
        },
        "id": "tSF7UeEp2inY",
        "outputId": "97491bd0-d7ce-4cdf-e65f-fd41ff3bf650"
      },
      "outputs": [
        {
          "output_type": "stream",
          "name": "stdout",
          "text": [
            "Mounted at /content/drive\n"
          ]
        }
      ],
      "source": [
        "from google.colab import drive\n",
        "drive.mount('/content/drive')"
      ]
    },
    {
      "cell_type": "code",
      "execution_count": null,
      "metadata": {
        "id": "weLkIAWdZd-6"
      },
      "outputs": [],
      "source": [
        "import os\n",
        "import torch\n",
        "import torchvision\n",
        "import tarfile\n",
        "import torch.nn as nn\n",
        "import numpy as np\n",
        "import torch.nn.functional as F\n",
        "from torchvision.datasets.utils import download_url\n",
        "from torchvision.datasets import ImageFolder\n",
        "from torch.utils.data import DataLoader, SubsetRandomSampler\n",
        "import torchvision.transforms as tt\n",
        "from torch.utils.data import random_split\n",
        "from torchvision.utils import make_grid\n",
        "import matplotlib\n",
        "import matplotlib.pyplot as plt\n",
        "import opendatasets as od\n",
        "%matplotlib inline\n",
        "import cv2\n",
        "import mediapipe as mp\n",
        "import numpy as np\n",
        "from PIL import Image\n",
        "from google.colab.patches import cv2_imshow\n",
        "\n",
        "matplotlib.rcParams['figure.facecolor'] = '#ffffff'#to keep background white"
      ]
    },
    {
      "cell_type": "code",
      "execution_count": null,
      "metadata": {
        "id": "JQU5TYqFZw2L"
      },
      "outputs": [],
      "source": [
        "project_name='indian-sign-language'"
      ]
    },
    {
      "cell_type": "code",
      "execution_count": null,
      "metadata": {
        "colab": {
          "base_uri": "https://localhost:8080/"
        },
        "id": "ihle7AKcZ5Kk",
        "outputId": "f56b7ea5-c8c6-4bc8-cb44-884d550c9749"
      },
      "outputs": [
        {
          "output_type": "stream",
          "name": "stdout",
          "text": [
            "Please provide your Kaggle credentials to download this dataset. Learn more: http://bit.ly/kaggle-creds\n",
            "Your Kaggle username: prajwalmdixit\n",
            "Your Kaggle Key: ··········\n",
            "Downloading indian-sign-language.zip to ./indian-sign-language\n"
          ]
        },
        {
          "output_type": "stream",
          "name": "stderr",
          "text": [
            "100%|██████████| 1.11G/1.11G [00:18<00:00, 63.4MB/s]\n"
          ]
        },
        {
          "output_type": "stream",
          "name": "stdout",
          "text": [
            "\n"
          ]
        }
      ],
      "source": [
        "dataset_url = \"https://www.kaggle.com/vaishnaviasonawane/indian-sign-language-dataset\"\n",
        "dataset_url = \"https://www.kaggle.com/saurabh24999/indian-sign-language\"\n",
        "#dataset_url=\"https://www.kaggle.com/datasets/kapillondhe/american-sign-language\"\n",
        "#prajwalmdixit\n",
        "#6960242e59b78799065573dee90d4200\n",
        "od.download(dataset_url)"
      ]
    },
    {
      "cell_type": "code",
      "execution_count": null,
      "metadata": {
        "colab": {
          "base_uri": "https://localhost:8080/"
        },
        "id": "OFoJlaUOalAo",
        "outputId": "5e132070-eb76-42bb-b14d-6166235658fb"
      },
      "outputs": [
        {
          "output_type": "stream",
          "name": "stdout",
          "text": [
            "['N', 'Q', 'W', 'X', 'E', 'M', '8', 'G', 'P', '3', 'K', '2', 'D', '5', 'A', 'S', '4', 'H', 'J', '7', '1', 'C', 'I', 'T', 'F', 'L', 'O', 'R', 'U', '6', 'Y', '9', 'V', 'Z', 'B']\n"
          ]
        }
      ],
      "source": [
        "# Look into the data directory\n",
        "# Change the directory as required\n",
        "data_dir = '/content/drive/MyDrive/segmentedImageIndianVaish/'\n",
        "classes = os.listdir(data_dir)\n",
        "print(classes)"
      ]
    },
    {
      "cell_type": "code",
      "execution_count": null,
      "metadata": {
        "colab": {
          "base_uri": "https://localhost:8080/"
        },
        "id": "YhjZsEJLa6HA",
        "outputId": "2bd248b6-3f87-40db-a903-5bf9802cd1cd"
      },
      "outputs": [
        {
          "output_type": "stream",
          "name": "stdout",
          "text": [
            "NO. of Training examples for A: 1200\n",
            "['0.jpg', '1.jpg', '2.jpg', '3.jpg', '4.jpg']\n"
          ]
        }
      ],
      "source": [
        "A_file=os.listdir(data_dir+\"A\")\n",
        "print(\"NO. of Training examples for A:\",len(A_file))\n",
        "print(A_file[:5])"
      ]
    },
    {
      "cell_type": "code",
      "execution_count": null,
      "metadata": {
        "colab": {
          "base_uri": "https://localhost:8080/"
        },
        "id": "d4BA3KkEbL0V",
        "outputId": "3da4cf66-49a9-43cf-b6a5-f5126ccc96ee"
      },
      "outputs": [
        {
          "output_type": "stream",
          "name": "stdout",
          "text": [
            "{'N': 1200, 'Q': 1200, 'W': 1200, 'X': 1200, 'E': 1200, 'M': 1200, '8': 1200, 'G': 1200, 'P': 1200, '3': 1200, 'K': 1200, '2': 1200, 'D': 1200, '5': 1200, 'A': 1200, 'S': 1200, '4': 1200, 'H': 1200, 'J': 1200, '7': 1200, '1': 1200, 'C': 1200, 'I': 1200, 'T': 1200, 'F': 1200, 'L': 1200, 'O': 1200, 'R': 1200, 'U': 1200, '6': 1200, 'Y': 1200, '9': 1200, 'V': 1200, 'Z': 1200, 'B': 1200}\n"
          ]
        }
      ],
      "source": [
        "di={}\n",
        "for i in classes:\n",
        "    di[i]=len(os.listdir(data_dir+i))\n",
        "print(di)"
      ]
    },
    {
      "cell_type": "code",
      "execution_count": null,
      "metadata": {
        "colab": {
          "base_uri": "https://localhost:8080/"
        },
        "id": "ksSfD6HobPsT",
        "outputId": "db5f1723-9da8-4cb6-aac4-0ee30a06e491"
      },
      "outputs": [
        {
          "output_type": "execute_result",
          "data": {
            "text/plain": [
              "35"
            ]
          },
          "metadata": {},
          "execution_count": 56
        }
      ],
      "source": [
        "target_num = len(classes)\n",
        "target_num"
      ]
    },
    {
      "cell_type": "code",
      "execution_count": null,
      "metadata": {
        "id": "WO5h62NaJ04y"
      },
      "outputs": [],
      "source": [
        "# #image segmentation background removal\n",
        "# mp_drawing = mp.solutions.drawing_utils\n",
        "minValue=50\n",
        "kernel = cv2.getStructuringElement(cv2.MORPH_RECT, (2,2))\n",
        "for i in classes:\n",
        "    os.makedirs(\"/content/drive/MyDrive/segmentedImageIndianVaish/\"+i,exist_ok=True)\n",
        "    IMAGE_FILES = os.listdir(data_dir+i)[:1500]\n",
        "    for idx, file in enumerate(IMAGE_FILES):\n",
        "      img=cv2.imread(data_dir+i+\"/\"+file)\n",
        "      gray = cv2.cvtColor(img, cv2.COLOR_BGR2GRAY)\n",
        "      blur = cv2.GaussianBlur(gray,(5,5),2)\n",
        "      th3 = cv2.adaptiveThreshold(blur,255,cv2.ADAPTIVE_THRESH_GAUSSIAN_C,cv2.THRESH_BINARY_INV,11,2)\n",
        "      ret, res = cv2.threshold(th3, minValue, 255, cv2.THRESH_BINARY_INV+cv2.THRESH_OTSU)\n",
        "      res = cv2.morphologyEx(res, cv2.MORPH_OPEN, kernel)\n",
        "      res = cv2.morphologyEx(res, cv2.MORPH_CLOSE, kernel)\n",
        "      cv2.imwrite('/content/drive/MyDrive/segmentedImageIndianVaish/'+i+\"/\"+ str(idx)+'.jpg', res)\n"
      ]
    },
    {
      "cell_type": "code",
      "execution_count": null,
      "metadata": {
        "id": "lqR_cbUHjAV4"
      },
      "outputs": [],
      "source": [
        "data_dir=\"/content/sample_data/segmentedImage1/\""
      ]
    },
    {
      "cell_type": "code",
      "execution_count": null,
      "metadata": {
        "id": "q3Y-dEiKcDWM"
      },
      "outputs": [],
      "source": [
        "train_tfms = tt.Compose([ tt.ToTensor(),tt.Resize(size = (128,128))])\n",
        "\n",
        "valid_tfms = tt.Compose([tt.ToTensor(),tt.Resize(size = (128,128))])"
      ]
    },
    {
      "cell_type": "code",
      "execution_count": null,
      "metadata": {
        "id": "k41YWx4IcHBb",
        "colab": {
          "base_uri": "https://localhost:8080/"
        },
        "outputId": "b56ea386-6a25-43a5-835b-d3f507777b4d"
      },
      "outputs": [
        {
          "output_type": "stream",
          "name": "stderr",
          "text": [
            "/usr/local/lib/python3.9/dist-packages/torchvision/transforms/functional.py:1603: UserWarning: The default value of the antialias parameter of all the resizing transforms (Resize(), RandomResizedCrop(), etc.) will change from None to True in v0.17, in order to be consistent across the PIL and Tensor backends. To suppress this warning, directly pass antialias=True (recommended, future default), antialias=None (current default, which means False for Tensors and True for PIL), or antialias=False (only works on Tensors - PIL will still use antialiasing). This also applies if you are using the inference transforms from the models weights: update the call to weights.transforms(antialias=True).\n",
            "  warnings.warn(\n"
          ]
        },
        {
          "output_type": "execute_result",
          "data": {
            "text/plain": [
              "torch.Size([3, 128, 128])"
            ]
          },
          "metadata": {},
          "execution_count": 12
        }
      ],
      "source": [
        "train_data = ImageFolder(data_dir, transform=train_tfms)\n",
        "valid_data = ImageFolder(data_dir, transform=valid_tfms)\n",
        "test_data = ImageFolder(data_dir, transform=valid_tfms)\n",
        "img,label=train_data[0]\n",
        "img.shape"
      ]
    },
    {
      "cell_type": "code",
      "execution_count": null,
      "metadata": {
        "id": "fGXUoHlIcPLk"
      },
      "outputs": [],
      "source": [
        "num_train = len(train_data)\n",
        "indices = list(range(num_train))\n",
        "# We'll fix the random state to avoid change in the creation of train and valid data.\n",
        "np.random.seed(42)\n",
        "np.random.shuffle(indices)\n",
        "# Let's take 15% of the train data as validation and 10% as test\n",
        "valid_size = 0.15\n",
        "test_size = 0.10\n",
        "val_split = int(np.floor(valid_size * num_train))\n",
        "test_split = int(np.floor(test_size * num_train))\n",
        "valid_idx, test_idx, train_idx = indices[:val_split], indices[val_split:val_split+test_split], indices[val_split+test_split:]"
      ]
    },
    {
      "cell_type": "code",
      "execution_count": null,
      "metadata": {
        "id": "lnEVk1FFcToF"
      },
      "outputs": [],
      "source": [
        "batch_size = 100"
      ]
    },
    {
      "cell_type": "code",
      "execution_count": null,
      "metadata": {
        "id": "WmnfcPqpcWVi"
      },
      "outputs": [],
      "source": [
        "# define samplers for obtaining training and validation batches\n",
        "train_sampler = SubsetRandomSampler(train_idx)\n",
        "valid_sampler = SubsetRandomSampler(valid_idx)\n",
        "# test_sampler = SubsetRandomSampler(test_idx)\n",
        "\n",
        "# prepare data loaders\n",
        "train_dl = torch.utils.data.DataLoader(train_data, batch_size=batch_size,\n",
        "    sampler=train_sampler, num_workers=2, pin_memory=True)\n",
        "valid_dl = torch.utils.data.DataLoader(valid_data, batch_size=batch_size,\n",
        "    sampler=valid_sampler, num_workers=2, pin_memory=True)\n",
        "# test_dl = torch.utils.data.DataLoader(valid_data, batch_size=batch_size,\n",
        "#     sampler=test_sampler, num_workers=2, pin_memory=True)"
      ]
    },
    {
      "cell_type": "code",
      "execution_count": null,
      "metadata": {
        "id": "d81auBp8c23c"
      },
      "outputs": [],
      "source": [
        "#for computing check\n",
        "def get_default_device():\n",
        "    \"\"\"Pick GPU if available, else CPU\"\"\"\n",
        "    if torch.cuda.is_available():\n",
        "        return torch.device('cuda')\n",
        "    else:\n",
        "        return torch.device('cpu')\n",
        "\n",
        "#for dataloader\n",
        "def to_device(data, device):\n",
        "    \"\"\"Move tensor(s) to chosen device\"\"\"\n",
        "    if isinstance(data, (list,tuple)):\n",
        "        return [to_device(x, device) for x in data]\n",
        "    return data.to(device, non_blocking=True)\n",
        "\n",
        "class DeviceDataLoader():\n",
        "    \"\"\"Wrap a dataloader to move data to a device\"\"\"\n",
        "    def __init__(self, dl, device):\n",
        "        self.dl = dl\n",
        "        self.device = device\n",
        "\n",
        "    def __iter__(self):\n",
        "        \"\"\"Yield a batch of data after moving it to device\"\"\"\n",
        "        for b in self.dl:\n",
        "            yield to_device(b, self.device)\n",
        "\n",
        "    def __len__(self):\n",
        "        \"\"\"Number of batches\"\"\"\n",
        "        return len(self.dl)"
      ]
    },
    {
      "cell_type": "code",
      "execution_count": null,
      "metadata": {
        "colab": {
          "base_uri": "https://localhost:8080/"
        },
        "id": "lPHKX4T4dIGU",
        "outputId": "9b6e03ac-8341-4a8d-ca90-3f99ae8a8641"
      },
      "outputs": [
        {
          "output_type": "execute_result",
          "data": {
            "text/plain": [
              "device(type='cpu')"
            ]
          },
          "metadata": {},
          "execution_count": 17
        }
      ],
      "source": [
        "device = get_default_device()\n",
        "device"
      ]
    },
    {
      "cell_type": "code",
      "execution_count": null,
      "metadata": {
        "id": "25PQMC-fdLdl"
      },
      "outputs": [],
      "source": [
        "train_dl = DeviceDataLoader(train_dl, device)\n",
        "valid_dl = DeviceDataLoader(valid_dl, device)"
      ]
    },
    {
      "cell_type": "code",
      "execution_count": null,
      "metadata": {
        "id": "QpCZUJEWdYTv",
        "colab": {
          "base_uri": "https://localhost:8080/"
        },
        "outputId": "ba937812-4778-4fa3-acfc-62b57cca1dd8"
      },
      "outputs": [
        {
          "output_type": "stream",
          "name": "stderr",
          "text": [
            "/usr/local/lib/python3.9/dist-packages/torchvision/models/_utils.py:208: UserWarning: The parameter 'pretrained' is deprecated since 0.13 and may be removed in the future, please use 'weights' instead.\n",
            "  warnings.warn(\n",
            "/usr/local/lib/python3.9/dist-packages/torchvision/models/_utils.py:223: UserWarning: Arguments other than a weight enum or `None` for 'weights' are deprecated since 0.13 and may be removed in the future. The current behavior is equivalent to passing `weights=None`.\n",
            "  warnings.warn(msg)\n"
          ]
        },
        {
          "output_type": "stream",
          "name": "stdout",
          "text": [
            "ResNet(\n",
            "  (conv1): Conv2d(3, 64, kernel_size=(7, 7), stride=(2, 2), padding=(3, 3), bias=False)\n",
            "  (bn1): BatchNorm2d(64, eps=1e-05, momentum=0.1, affine=True, track_running_stats=True)\n",
            "  (relu): ReLU(inplace=True)\n",
            "  (maxpool): MaxPool2d(kernel_size=3, stride=2, padding=1, dilation=1, ceil_mode=False)\n",
            "  (layer1): Sequential(\n",
            "    (0): BasicBlock(\n",
            "      (conv1): Conv2d(64, 64, kernel_size=(3, 3), stride=(1, 1), padding=(1, 1), bias=False)\n",
            "      (bn1): BatchNorm2d(64, eps=1e-05, momentum=0.1, affine=True, track_running_stats=True)\n",
            "      (relu): ReLU(inplace=True)\n",
            "      (conv2): Conv2d(64, 64, kernel_size=(3, 3), stride=(1, 1), padding=(1, 1), bias=False)\n",
            "      (bn2): BatchNorm2d(64, eps=1e-05, momentum=0.1, affine=True, track_running_stats=True)\n",
            "    )\n",
            "    (1): BasicBlock(\n",
            "      (conv1): Conv2d(64, 64, kernel_size=(3, 3), stride=(1, 1), padding=(1, 1), bias=False)\n",
            "      (bn1): BatchNorm2d(64, eps=1e-05, momentum=0.1, affine=True, track_running_stats=True)\n",
            "      (relu): ReLU(inplace=True)\n",
            "      (conv2): Conv2d(64, 64, kernel_size=(3, 3), stride=(1, 1), padding=(1, 1), bias=False)\n",
            "      (bn2): BatchNorm2d(64, eps=1e-05, momentum=0.1, affine=True, track_running_stats=True)\n",
            "    )\n",
            "  )\n",
            "  (layer2): Sequential(\n",
            "    (0): BasicBlock(\n",
            "      (conv1): Conv2d(64, 128, kernel_size=(3, 3), stride=(2, 2), padding=(1, 1), bias=False)\n",
            "      (bn1): BatchNorm2d(128, eps=1e-05, momentum=0.1, affine=True, track_running_stats=True)\n",
            "      (relu): ReLU(inplace=True)\n",
            "      (conv2): Conv2d(128, 128, kernel_size=(3, 3), stride=(1, 1), padding=(1, 1), bias=False)\n",
            "      (bn2): BatchNorm2d(128, eps=1e-05, momentum=0.1, affine=True, track_running_stats=True)\n",
            "      (downsample): Sequential(\n",
            "        (0): Conv2d(64, 128, kernel_size=(1, 1), stride=(2, 2), bias=False)\n",
            "        (1): BatchNorm2d(128, eps=1e-05, momentum=0.1, affine=True, track_running_stats=True)\n",
            "      )\n",
            "    )\n",
            "    (1): BasicBlock(\n",
            "      (conv1): Conv2d(128, 128, kernel_size=(3, 3), stride=(1, 1), padding=(1, 1), bias=False)\n",
            "      (bn1): BatchNorm2d(128, eps=1e-05, momentum=0.1, affine=True, track_running_stats=True)\n",
            "      (relu): ReLU(inplace=True)\n",
            "      (conv2): Conv2d(128, 128, kernel_size=(3, 3), stride=(1, 1), padding=(1, 1), bias=False)\n",
            "      (bn2): BatchNorm2d(128, eps=1e-05, momentum=0.1, affine=True, track_running_stats=True)\n",
            "    )\n",
            "  )\n",
            "  (layer3): Sequential(\n",
            "    (0): BasicBlock(\n",
            "      (conv1): Conv2d(128, 256, kernel_size=(3, 3), stride=(2, 2), padding=(1, 1), bias=False)\n",
            "      (bn1): BatchNorm2d(256, eps=1e-05, momentum=0.1, affine=True, track_running_stats=True)\n",
            "      (relu): ReLU(inplace=True)\n",
            "      (conv2): Conv2d(256, 256, kernel_size=(3, 3), stride=(1, 1), padding=(1, 1), bias=False)\n",
            "      (bn2): BatchNorm2d(256, eps=1e-05, momentum=0.1, affine=True, track_running_stats=True)\n",
            "      (downsample): Sequential(\n",
            "        (0): Conv2d(128, 256, kernel_size=(1, 1), stride=(2, 2), bias=False)\n",
            "        (1): BatchNorm2d(256, eps=1e-05, momentum=0.1, affine=True, track_running_stats=True)\n",
            "      )\n",
            "    )\n",
            "    (1): BasicBlock(\n",
            "      (conv1): Conv2d(256, 256, kernel_size=(3, 3), stride=(1, 1), padding=(1, 1), bias=False)\n",
            "      (bn1): BatchNorm2d(256, eps=1e-05, momentum=0.1, affine=True, track_running_stats=True)\n",
            "      (relu): ReLU(inplace=True)\n",
            "      (conv2): Conv2d(256, 256, kernel_size=(3, 3), stride=(1, 1), padding=(1, 1), bias=False)\n",
            "      (bn2): BatchNorm2d(256, eps=1e-05, momentum=0.1, affine=True, track_running_stats=True)\n",
            "    )\n",
            "  )\n",
            "  (layer4): Sequential(\n",
            "    (0): BasicBlock(\n",
            "      (conv1): Conv2d(256, 512, kernel_size=(3, 3), stride=(2, 2), padding=(1, 1), bias=False)\n",
            "      (bn1): BatchNorm2d(512, eps=1e-05, momentum=0.1, affine=True, track_running_stats=True)\n",
            "      (relu): ReLU(inplace=True)\n",
            "      (conv2): Conv2d(512, 512, kernel_size=(3, 3), stride=(1, 1), padding=(1, 1), bias=False)\n",
            "      (bn2): BatchNorm2d(512, eps=1e-05, momentum=0.1, affine=True, track_running_stats=True)\n",
            "      (downsample): Sequential(\n",
            "        (0): Conv2d(256, 512, kernel_size=(1, 1), stride=(2, 2), bias=False)\n",
            "        (1): BatchNorm2d(512, eps=1e-05, momentum=0.1, affine=True, track_running_stats=True)\n",
            "      )\n",
            "    )\n",
            "    (1): BasicBlock(\n",
            "      (conv1): Conv2d(512, 512, kernel_size=(3, 3), stride=(1, 1), padding=(1, 1), bias=False)\n",
            "      (bn1): BatchNorm2d(512, eps=1e-05, momentum=0.1, affine=True, track_running_stats=True)\n",
            "      (relu): ReLU(inplace=True)\n",
            "      (conv2): Conv2d(512, 512, kernel_size=(3, 3), stride=(1, 1), padding=(1, 1), bias=False)\n",
            "      (bn2): BatchNorm2d(512, eps=1e-05, momentum=0.1, affine=True, track_running_stats=True)\n",
            "    )\n",
            "  )\n",
            "  (avgpool): AdaptiveAvgPool2d(output_size=(1, 1))\n",
            "  (fc): Linear(in_features=512, out_features=35, bias=True)\n",
            ")\n"
          ]
        }
      ],
      "source": [
        "import torchvision.models as models\n",
        "model_ft = models.resnet18(pretrained=False)\n",
        "in_features = model_ft._modules['fc'].in_features\n",
        "# # #model_ft._modules['features'][0][0]=nn.Conv2d(3, 64, kernel_size=(3, 3), stride=(2, 2), padding=(1, 1), bias=False)\n",
        "# # #model_ft._modules['features'][0][1]=nn.BatchNorm2d(64, eps=0.001, momentum=0.01, affine=True, track_running_stats=True)\n",
        "# # #model_ft._modules['features'][1][0]['block'][0][0]=nn.Conv2d(64, 64, kernel_size=(3, 3), stride=(1, 1), padding=(1, 1), groups=64, bias=False)\n",
        "model_ft._modules['fc'] = nn.Linear(in_features, target_num, bias=True)\n",
        "model_ft = model_ft.to(device)\n",
        "\n",
        "model=model_ft\n",
        "\n",
        "print(model)\n",
        "def accuracy(outputs, labels):\n",
        "    _, preds = torch.max(outputs, dim=1)\n",
        "    return torch.tensor(torch.sum(preds == labels).item() / len(preds))\n",
        "\n",
        "#main class\n",
        "class VGG16:\n",
        "    def training_step(model, batch):\n",
        "        images, labels = batch\n",
        "        out = model(images)                  # Generate predictions\n",
        "        loss = F.cross_entropy(out, labels) # Calculate loss\n",
        "        return loss\n",
        "\n",
        "    def validation_step(model, batch):\n",
        "        images, labels = batch\n",
        "        out = model(images)                    # Generate predictions\n",
        "        loss = F.cross_entropy(out, labels)   # Calculate loss\n",
        "        acc = accuracy(out, labels)           # Calculate accuracy\n",
        "        return {'val_loss': loss.detach(), 'val_acc': acc}\n",
        "\n",
        "    def validation_epoch_end(model, outputs):\n",
        "        batch_losses = [x['val_loss'] for x in outputs]\n",
        "        epoch_loss = torch.stack(batch_losses).mean()   # Combine losses\n",
        "        batch_accs = [x['val_acc'] for x in outputs]\n",
        "        epoch_acc = torch.stack(batch_accs).mean()      # Combine accuracies\n",
        "        return {'val_loss': epoch_loss.item(), 'val_acc': epoch_acc.item()}\n",
        "\n",
        "    def epoch_end(model, epoch, result):\n",
        "        print(\"Epoch [{}], last_lr: {:.5f}, train_loss: {:.4f}, val_loss: {:.4f}, val_acc: {:.4f}\".format(\n",
        "            epoch, result['lrs'][-1], result['train_loss'], result['val_loss'], result['val_acc']))"
      ]
    },
    {
      "cell_type": "code",
      "execution_count": null,
      "metadata": {
        "id": "zeH67_v1dpB2"
      },
      "outputs": [],
      "source": [
        "@torch.no_grad()\n",
        "def evaluate(model, val_loader):\n",
        "    model.eval()\n",
        "    outputs = [VGG16.validation_step(model,batch) for batch in val_loader]\n",
        "    return VGG16.validation_epoch_end(model,outputs)\n",
        "\n",
        "def get_lr(optimizer):\n",
        "    for param_group in optimizer.param_groups:\n",
        "        return param_group['lr']\n",
        "\n",
        "#training cycle\n",
        "def fit_one_cycle(epochs, max_lr, model, train_loader, val_loader,\n",
        "                  weight_decay=0, grad_clip=None, opt_func=torch.optim.SGD):\n",
        "    torch.cuda.empty_cache()\n",
        "    history = []\n",
        "\n",
        "    # Set up custom optimizer with weight decay\n",
        "    optimizer = opt_func(model.parameters(), max_lr, weight_decay=weight_decay)\n",
        "    # Set up one-cycle learning rate scheduler\n",
        "    sched = torch.optim.lr_scheduler.OneCycleLR(optimizer, max_lr, epochs=epochs,\n",
        "                                                steps_per_epoch=len(train_loader))\n",
        "\n",
        "    for epoch in range(epochs):\n",
        "        # Training Phase\n",
        "        model.train()\n",
        "        train_losses = []\n",
        "        lrs = []\n",
        "        for batch in train_loader:\n",
        "            loss = VGG16.training_step(model,batch)\n",
        "            train_losses.append(loss)\n",
        "            loss.backward()\n",
        "\n",
        "            # Gradient clipping\n",
        "            if grad_clip:\n",
        "              nn.utils.clip_grad_value_(model.parameters(), grad_clip)\n",
        "\n",
        "            optimizer.step()\n",
        "            optimizer.zero_grad()\n",
        "\n",
        "            # Record & update learning rate\n",
        "            lrs.append(get_lr(optimizer))\n",
        "            sched.step()\n",
        "\n",
        "        # Validation phase\n",
        "        result = evaluate(model, val_loader) #which will call validation_step\n",
        "        result['train_loss'] = torch.stack(train_losses).mean().item()\n",
        "        result['lrs'] = lrs\n",
        "        VGG16.epoch_end(model,epoch, result)\n",
        "        history.append(result)\n",
        "    return history"
      ]
    },
    {
      "cell_type": "code",
      "execution_count": null,
      "metadata": {
        "colab": {
          "base_uri": "https://localhost:8080/"
        },
        "id": "sU1CfRdUdiAy",
        "outputId": "089c7058-5b3e-440c-da1b-afa0989e9993"
      },
      "outputs": [
        {
          "output_type": "execute_result",
          "data": {
            "text/plain": [
              "[{'val_loss': 3.953124523162842, 'val_acc': 0.026825398206710815}]"
            ]
          },
          "metadata": {},
          "execution_count": 83
        }
      ],
      "source": [
        "history = [evaluate(model, valid_dl)]\n",
        "history"
      ]
    },
    {
      "cell_type": "code",
      "execution_count": null,
      "metadata": {
        "id": "zdinZfdJd4sc"
      },
      "outputs": [],
      "source": [
        "epochs = 6\n",
        "max_lr = 0.01\n",
        "grad_clip = 0.1\n",
        "weight_decay = 1e-4\n",
        "opt_func = torch.optim.Adam"
      ]
    },
    {
      "cell_type": "code",
      "execution_count": null,
      "metadata": {
        "colab": {
          "base_uri": "https://localhost:8080/"
        },
        "id": "5s5dzDfgd7-q",
        "outputId": "eef3dfef-89c3-419a-e267-93930c9d5826"
      },
      "outputs": [
        {
          "output_type": "stream",
          "name": "stdout",
          "text": [
            "Epoch [0], last_lr: 0.00602, train_loss: 0.0944, val_loss: 0.1158, val_acc: 0.9986\n",
            "Epoch [1], last_lr: 0.00994, train_loss: 0.4008, val_loss: 11.7449, val_acc: 0.1811\n",
            "Epoch [2], last_lr: 0.00812, train_loss: 0.0205, val_loss: 0.7477, val_acc: 0.8016\n",
            "Epoch [3], last_lr: 0.00463, train_loss: 0.0259, val_loss: 0.0242, val_acc: 0.9959\n",
            "Epoch [4], last_lr: 0.00133, train_loss: 0.0004, val_loss: 0.0003, val_acc: 1.0000\n",
            "Epoch [5], last_lr: 0.00000, train_loss: 0.0001, val_loss: 0.0001, val_acc: 1.0000\n",
            "CPU times: user 54.7 s, sys: 14.2 s, total: 1min 8s\n",
            "Wall time: 4min 54s\n"
          ]
        }
      ],
      "source": [
        "%%time\n",
        "history += fit_one_cycle(epochs, max_lr, model, train_dl, valid_dl,\n",
        "                             grad_clip=grad_clip,\n",
        "                             weight_decay=weight_decay,\n",
        "                             opt_func=opt_func)\n",
        "train_time='10:00'"
      ]
    },
    {
      "cell_type": "code",
      "execution_count": null,
      "metadata": {
        "id": "3HRBRULNe2Um"
      },
      "outputs": [],
      "source": [
        "def predict_image(img, model):\n",
        "    # Convert to a batch of 1\n",
        "    xb = to_device(img.unsqueeze(0), device)\n",
        "    # Get predictions from model\n",
        "    yb = model(xb).squeeze(0).softmax(0)\n",
        "    # Pick index with highest probability\n",
        "    preds  = yb.argmax().item()\n",
        "    # Retrieve the class label\n",
        "    return train_data.classes[preds]"
      ]
    },
    {
      "cell_type": "code",
      "execution_count": null,
      "metadata": {
        "id": "fdnqj4_Ve4-8",
        "colab": {
          "base_uri": "https://localhost:8080/"
        },
        "outputId": "447fdf66-ae5b-47da-f501-d4228a7ff211"
      },
      "outputs": [
        {
          "output_type": "stream",
          "name": "stdout",
          "text": [
            "Accuracy [Test Data]: 100.0 %\n"
          ]
        }
      ],
      "source": [
        "correct = []\n",
        "for i in test_idx:\n",
        "    img, lab = test_data[i]\n",
        "    xb = to_device(img.unsqueeze(0), device)\n",
        "    yb = model(xb)\n",
        "    _, preds  = torch.max(yb, dim=1)\n",
        "    correct.append(preds[0].item() == lab)\n",
        "print(f\"Accuracy [Test Data]: {sum(correct) / len(test_idx) * 100} %\")"
      ]
    },
    {
      "cell_type": "code",
      "execution_count": null,
      "metadata": {
        "colab": {
          "base_uri": "https://localhost:8080/"
        },
        "id": "TY1Fhwz5fDnw",
        "outputId": "8101810a-7d27-4494-c01c-754b2fcb0aef"
      },
      "outputs": [
        {
          "output_type": "execute_result",
          "data": {
            "text/plain": [
              "['ISN-1-custom-resnet.sav']"
            ]
          },
          "metadata": {},
          "execution_count": 88
        }
      ],
      "source": [
        "import joblib\n",
        "torch.save(model.state_dict(), '/content/drive/MyDrive/IndianVaishnaviWithMorphresnet18.pth')\n",
        "filename = 'ISN-1-custom-resnet.sav'\n",
        "joblib.dump(model, filename)"
      ]
    },
    {
      "cell_type": "code",
      "source": [
        "minValue=50\n",
        "kernel = cv2.getStructuringElement(cv2.MORPH_RECT, (2,2))\n",
        "IMAGE_FILES = [\"/content/indian-sign-language/Train/G/107.jpg\"]\n",
        "for idx, file in enumerate(IMAGE_FILES):\n",
        "  img=cv2.imread(file)\n",
        "  gray = cv2.cvtColor(img, cv2.COLOR_BGR2GRAY)\n",
        "  blur = cv2.GaussianBlur(gray,(5,5),2)\n",
        "\n",
        "  th3 = cv2.adaptiveThreshold(blur,255,cv2.ADAPTIVE_THRESH_GAUSSIAN_C,cv2.THRESH_BINARY_INV,11,2)\n",
        "  ret, res = cv2.threshold(th3, minValue, 255, cv2.THRESH_BINARY_INV+cv2.THRESH_OTSU)\n",
        "\n",
        "  res = cv2.morphologyEx(res, cv2.MORPH_OPEN, kernel)\n",
        "  res = cv2.morphologyEx(res, cv2.MORPH_CLOSE, kernel)\n",
        "  res = cv2.cvtColor(res, cv2.COLOR_GRAY2BGR)\n",
        "transform = tt.Compose([tt.ToTensor(),tt.Resize(size = (128,128))])\n",
        "img= transform(res)\n",
        "\n",
        "model= models.resnet18(pretrained=False)\n",
        "in_features = model._modules['fc'].in_features\n",
        "model._modules['fc'] = nn.Linear(in_features, target_num, bias=True)\n",
        "model= model.to(device)\n",
        "\n",
        "\n",
        "model.load_state_dict(torch.load(\"/content/drive/MyDrive/IndianVaishnaviWithMorphresnet18.pth\",map_location=torch.device('cpu')))\n",
        "model.eval()\n",
        "\n",
        "plt.imshow(img.permute(1,2,0))\n",
        "print(img.shape)\n",
        "print(' Predicted:', predict_image(img, model))\n",
        "\n"
      ],
      "metadata": {
        "colab": {
          "base_uri": "https://localhost:8080/",
          "height": 469
        },
        "id": "FkJUyghmFImx",
        "outputId": "fff7dc44-e9ae-45e8-9b1c-b0d87b4efc5f"
      },
      "execution_count": null,
      "outputs": [
        {
          "output_type": "stream",
          "name": "stdout",
          "text": [
            "torch.Size([3, 128, 128])\n",
            " Predicted: G\n"
          ]
        },
        {
          "output_type": "display_data",
          "data": {
            "text/plain": [
              "<Figure size 640x480 with 1 Axes>"
            ],
            "image/png": "[encoded data removed]"
          },
          "metadata": {}
        }
      ]
    }
  ]
}